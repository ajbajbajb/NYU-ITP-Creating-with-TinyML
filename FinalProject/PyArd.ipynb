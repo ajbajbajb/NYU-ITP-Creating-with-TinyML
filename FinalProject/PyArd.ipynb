{
 "cells": [
  {
   "cell_type": "markdown",
   "id": "6d95eab7",
   "metadata": {},
   "source": [
    "# Python Arduino Connection \n",
    "# Serial Over USB\n",
    "\n",
    "You need to use `ipykernel` to use jupyter notebooks in a virtual environment. \n",
    "Just FYI I am not quite used to doing things this way. I'll guess I'll get around to it...\n",
    "`pipenv shell`\n",
    "`pipenv install ipykernel'\n",
    "\n",
    "`python - m ipykernel install - -user - -display-name pipenv_test - -name pipenv_test`\n",
    "\n",
    "Then to use this virtual environment in vscode you have to select the kernel from the drop down menu with the different python options on the upper right of the window. It should be the one at the bottom with the name of the virtual environment root folder."
   ]
  },
  {
   "cell_type": "markdown",
   "id": "fb433d39",
   "metadata": {},
   "source": []
  },
  {
   "cell_type": "code",
   "execution_count": 2,
   "id": "4777942f",
   "metadata": {},
   "outputs": [],
   "source": [
    "\n",
    "import serial\n",
    "import time\n",
    "import matplotlib.pyplot as plt\n"
   ]
  },
  {
   "cell_type": "code",
   "execution_count": 3,
   "id": "f1d94d56",
   "metadata": {},
   "outputs": [
    {
     "name": "stdout",
     "output_type": "stream",
     "text": [
      "You are connected to: /dev/cu.usbmodem14101 at 9600\n"
     ]
    }
   ],
   "source": [
    "\n",
    "port = '/dev/cu.usbmodem14101'\n",
    "baud = 9600\n",
    "timeoutLength = 1\n",
    "\n",
    "\n",
    "ser = serial.Serial(port, baud, timeout=timeoutLength)  # open serial port\n",
    "print('You are connected to: ' + ser.name + ' at ' + str(baud))         # check which port was really used\n",
    "time.sleep(1)\n",
    "\n",
    "# ser.write(b'hello')     # write a string\n",
    "# ser.close()             # close port\n",
    "# s = ser.read()\n",
    "# print(s)\n"
   ]
  },
  {
   "cell_type": "markdown",
   "id": "d217e94e",
   "metadata": {},
   "source": [
    "Read the port."
   ]
  },
  {
   "cell_type": "code",
   "execution_count": 4,
   "id": "a9f34187",
   "metadata": {},
   "outputs": [
    {
     "data": {
      "text/plain": [
       "'253\\r\\n'"
      ]
     },
     "execution_count": 4,
     "metadata": {},
     "output_type": "execute_result"
    }
   ],
   "source": [
    "line = ser.readline()\n",
    "string = line.decode()\n",
    "string\n"
   ]
  },
  {
   "cell_type": "code",
   "execution_count": 8,
   "metadata": {},
   "outputs": [
    {
     "name": "stdout",
     "output_type": "stream",
     "text": [
      "252\n",
      "250\n",
      "253\n",
      "253\n",
      "251\n",
      "250\n",
      "251\n",
      "252\n",
      "252\n",
      "251\n",
      "250\n",
      "251\n",
      "250\n",
      "250\n",
      "252\n",
      "251\n",
      "252\n",
      "252\n",
      "251\n",
      "251\n",
      "251\n",
      "251\n",
      "252\n",
      "250\n",
      "253\n",
      "253\n",
      "252\n",
      "250\n",
      "252\n",
      "249\n",
      "253\n",
      "250\n",
      "252\n",
      "252\n",
      "251\n",
      "250\n",
      "249\n",
      "250\n",
      "252\n",
      "251\n",
      "251\n",
      "253\n",
      "250\n",
      "252\n",
      "252\n",
      "250\n",
      "250\n",
      "253\n",
      "249\n",
      "250\n",
      "253\n",
      "252\n",
      "252\n",
      "252\n",
      "252\n",
      "252\n",
      "253\n",
      "250\n",
      "251\n",
      "252\n",
      "253\n",
      "251\n",
      "253\n",
      "249\n",
      "253\n",
      "253\n",
      "253\n",
      "252\n",
      "252\n",
      "252\n",
      "252\n",
      "251\n",
      "251\n",
      "252\n",
      "251\n",
      "252\n",
      "252\n",
      "253\n",
      "250\n",
      "251\n",
      "254\n",
      "251\n",
      "250\n",
      "250\n",
      "252\n",
      "251\n",
      "251\n",
      "252\n",
      "253\n",
      "252\n",
      "252\n",
      "250\n",
      "251\n",
      "252\n",
      "253\n",
      "252\n",
      "253\n",
      "251\n",
      "239\n",
      "207\n",
      "139\n",
      "0\n",
      "0\n",
      "0\n",
      "0\n",
      "59\n",
      "119\n",
      "97\n",
      "0\n",
      "0\n",
      "0\n",
      "0\n",
      "122\n",
      "172\n",
      "171\n",
      "119\n",
      "0\n",
      "0\n",
      "0\n",
      "0\n",
      "108\n",
      "146\n",
      "135\n",
      "45\n",
      "0\n",
      "0\n",
      "0\n",
      "78\n",
      "145\n",
      "151\n",
      "102\n",
      "0\n",
      "0\n",
      "0\n",
      "32\n",
      "132\n",
      "175\n",
      "199\n",
      "221\n",
      "238\n",
      "251\n",
      "251\n",
      "252\n",
      "251\n",
      "250\n",
      "252\n",
      "251\n",
      "253\n",
      "250\n",
      "253\n",
      "251\n",
      "251\n",
      "252\n",
      "252\n",
      "251\n",
      "250\n",
      "250\n",
      "251\n",
      "249\n",
      "251\n",
      "252\n",
      "252\n",
      "252\n",
      "252\n",
      "252\n",
      "251\n",
      "251\n",
      "251\n",
      "253\n",
      "253\n",
      "251\n",
      "250\n",
      "250\n",
      "250\n",
      "251\n",
      "250\n",
      "253\n",
      "251\n",
      "251\n",
      "249\n",
      "252\n",
      "251\n",
      "249\n",
      "252\n",
      "253\n",
      "252\n",
      "251\n",
      "252\n",
      "251\n",
      "253\n",
      "250\n",
      "253\n",
      "252\n",
      "251\n",
      "252\n",
      "252\n",
      "253\n",
      "250\n",
      "250\n",
      "252\n"
     ]
    }
   ],
   "source": [
    "data = []\n",
    "for i in range(200):\n",
    "    line = ser.readline()\n",
    "    if line:\n",
    "        string = line.decode()\n",
    "        string = int(string.strip())\n",
    "        print(string)\n",
    "        data.append(string)\n"
   ]
  },
  {
   "cell_type": "code",
   "execution_count": 43,
   "id": "055c7528",
   "metadata": {},
   "outputs": [],
   "source": [
    "ser.close()"
   ]
  },
  {
   "cell_type": "markdown",
   "id": "850815de",
   "metadata": {},
   "source": [
    "Plotting the data on a little chart"
   ]
  },
  {
   "cell_type": "code",
   "execution_count": 7,
   "id": "9e4bbfbf",
   "metadata": {},
   "outputs": [
    {
     "data": {
      "image/png": "[encoded data removed]",
      "text/plain": [
       "<Figure size 432x288 with 1 Axes>"
      ]
     },
     "metadata": {
      "needs_background": "light"
     },
     "output_type": "display_data"
    }
   ],
   "source": [
    "plt.plot(data)\n",
    "plt.xlabel('Time')\n",
    "plt.ylabel('Proximity Reading')\n",
    "plt.title('Proximity Sensor over a little sequence')\n",
    "plt.show()"
   ]
  },
  {
   "cell_type": "code",
   "execution_count": null,
   "id": "1e2fe62b",
   "metadata": {},
   "outputs": [],
   "source": []
  }
 ],
 "metadata": {
  "interpreter": {
   "hash": "767d51c1340bd893661ea55ea3124f6de3c7a262a8b4abca0554b478b1e2ff90"
  },
  "kernelspec": {
   "display_name": "pipenv_test",
   "language": "python",
   "name": "python3"
  },
  "language_info": {
   "codemirror_mode": {
    "name": "ipython",
    "version": 3
   },
   "file_extension": ".py",
   "mimetype": "text/x-python",
   "name": "python",
   "nbconvert_exporter": "python",
   "pygments_lexer": "ipython3",
   "version": "3.8.3"
  }
 },
 "nbformat": 4,
 "nbformat_minor": 5
}
